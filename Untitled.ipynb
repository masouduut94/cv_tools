{
 "cells": [
  {
   "cell_type": "code",
   "execution_count": 45,
   "id": "cbd18f60-13b0-414f-bf4b-265607e3a9aa",
   "metadata": {},
   "outputs": [],
   "source": [
    "import pandas as pd\n",
    "import cv2\n",
    "from pathlib import Path\n",
    "from tqdm.notebook import tqdm\n",
    "from os.path import join\n",
    "import random as r"
   ]
  },
  {
   "cell_type": "code",
   "execution_count": 46,
   "id": "6795e32a-0b1b-49ec-bfd6-d716c4d6b0b6",
   "metadata": {},
   "outputs": [],
   "source": [
    "df = pd.read_csv('labels/behind_cam.csv')\n",
    "filename = 'videos/behind_cam.mp4'\n",
    "save_path_serve = 'data/train/serve/'\n",
    "save_path_no_serve = 'data/train/no_serve'"
   ]
  },
  {
   "cell_type": "code",
   "execution_count": 47,
   "id": "2a475f87-3974-4252-8922-9abbc3b65e53",
   "metadata": {},
   "outputs": [],
   "source": [
    "def get_vid_toss(df, save_path, filename):\n",
    "    toss = df[df.toss].frame.tolist()\n",
    "    end_toss = df[df.toss_end].frame.tolist()\n",
    "    \n",
    "    cap = cv2.VideoCapture(filename)\n",
    "    assert cap.isOpened()\n",
    "    w, h, fps = [int(cap.get(i)) for i in range(3, 6)]\n",
    "    codec = cv2.VideoWriter_fourcc(*'mp4v')\n",
    "    filename = Path(filename).stem\n",
    "    \n",
    "    st_end_pairs = list(zip(toss, end_toss))\n",
    "    \n",
    "    for (start_frame, end_frame) in tqdm(st_end_pairs):\n",
    "        name = join(save_path, filename + f'_{start_frame}_{end_frame}.mp4')\n",
    "        writer = cv2.VideoWriter(name, codec, fps, (w, h))\n",
    "        for fno in range(start_frame, end_frame):\n",
    "            cap.set(1, fno)\n",
    "            status, frame = cap.read()\n",
    "            writer.write(frame)\n",
    "        writer.release()\n",
    "\n",
    "#\n",
    "\n",
    "def get_no_serves(df, save_path, filename, quota=30, clip_length=60):\n",
    "    start_toss = df[df.toss].frame.tolist()\n",
    "    end_toss = df[df.toss_end].frame.tolist()\n",
    "    _ = start_toss.pop(0)\n",
    "    \n",
    "    cap = cv2.VideoCapture(filename)\n",
    "    assert cap.isOpened()\n",
    "    \n",
    "    w, h, fps = [int(cap.get(i)) for i in range(3, 6)]\n",
    "    codec = cv2.VideoWriter_fourcc(*'mp4v')\n",
    "    filename = Path(filename).stem\n",
    "    \n",
    "    start_end_pairs = list(zip(end_toss, start_toss))\n",
    "    \n",
    "    # for start, end in start_end_pairs:\n",
    "    #     times = (start - end) // quota\n",
    "    #     min_frames = (start - end) % quota\n",
    "        \n",
    "    if quota < len(start_end_pairs):\n",
    "        choices = r.choices(start_end_pairs, k=quota)\n",
    "    else:\n",
    "        choices = start_end_pairs\n",
    "\n",
    "    for (start_frame, end_frame) in tqdm(choices):\n",
    "        print(start_frame, end_frame - clip_length)\n",
    "        if (end_frame-clip_length) - start_frame < 20:\n",
    "            print(\"low frames included...\")\n",
    "            continue\n",
    "        \n",
    "        rnd_start = r.randint(start_frame, end_frame-clip_length)\n",
    "        end = rnd_start + clip_length\n",
    "        \n",
    "        name = join(save_path, filename + f'_{start_frame}_{end_frame}.mp4')\n",
    "        writer = cv2.VideoWriter(name, codec, fps, (w, h))\n",
    "        for fno in range(rnd_start, end):\n",
    "            cap.set(1, fno)\n",
    "            status, frame = cap.read()\n",
    "            writer.write(frame)\n",
    "        writer.release()\n"
   ]
  },
  {
   "cell_type": "code",
   "execution_count": 43,
   "id": "a7204577-abbf-43a9-8856-7d2df35ce650",
   "metadata": {
    "tags": []
   },
   "outputs": [],
   "source": [
    "# get_vid_toss(df, save_path_serve, filename)\n"
   ]
  },
  {
   "cell_type": "code",
   "execution_count": 48,
   "id": "235e750a-6b3d-4491-b139-2d4455937f4b",
   "metadata": {
    "tags": []
   },
   "outputs": [
    {
     "data": {
      "application/vnd.jupyter.widget-view+json": {
       "model_id": "0052429d512e486a80392d7d396d548b",
       "version_major": 2,
       "version_minor": 0
      },
      "text/plain": [
       "  0%|          | 0/78 [00:00<?, ?it/s]"
      ]
     },
     "metadata": {},
     "output_type": "display_data"
    },
    {
     "name": "stdout",
     "output_type": "stream",
     "text": [
      "112 634\n",
      "499 559\n"
     ]
    },
    {
     "ename": "KeyboardInterrupt",
     "evalue": "",
     "output_type": "error",
     "traceback": [
      "\u001b[1;31m---------------------------------------------------------------------------\u001b[0m",
      "\u001b[1;31mKeyboardInterrupt\u001b[0m                         Traceback (most recent call last)",
      "Cell \u001b[1;32mIn[48], line 1\u001b[0m\n\u001b[1;32m----> 1\u001b[0m \u001b[43mget_no_serves\u001b[49m\u001b[43m(\u001b[49m\u001b[43mdf\u001b[49m\u001b[43m,\u001b[49m\u001b[43m \u001b[49m\u001b[43msave_path_no_serve\u001b[49m\u001b[43m,\u001b[49m\u001b[43m \u001b[49m\u001b[43mfilename\u001b[49m\u001b[43m,\u001b[49m\u001b[43m \u001b[49m\u001b[43mquota\u001b[49m\u001b[38;5;241;43m=\u001b[39;49m\u001b[38;5;241;43m140\u001b[39;49m\u001b[43m,\u001b[49m\u001b[43m \u001b[49m\u001b[43mclip_length\u001b[49m\u001b[38;5;241;43m=\u001b[39;49m\u001b[38;5;241;43m60\u001b[39;49m\u001b[43m)\u001b[49m\n",
      "Cell \u001b[1;32mIn[47], line 60\u001b[0m, in \u001b[0;36mget_no_serves\u001b[1;34m(df, save_path, filename, quota, clip_length)\u001b[0m\n\u001b[0;32m     58\u001b[0m \u001b[38;5;28mprint\u001b[39m(rnd_start, end)\n\u001b[0;32m     59\u001b[0m \u001b[38;5;28;01mfor\u001b[39;00m fno \u001b[38;5;129;01min\u001b[39;00m \u001b[38;5;28mrange\u001b[39m(rnd_start, end):\n\u001b[1;32m---> 60\u001b[0m     \u001b[43mcap\u001b[49m\u001b[38;5;241;43m.\u001b[39;49m\u001b[43mset\u001b[49m\u001b[43m(\u001b[49m\u001b[38;5;241;43m1\u001b[39;49m\u001b[43m,\u001b[49m\u001b[43m \u001b[49m\u001b[43mfno\u001b[49m\u001b[43m)\u001b[49m\n\u001b[0;32m     61\u001b[0m     status, frame \u001b[38;5;241m=\u001b[39m cap\u001b[38;5;241m.\u001b[39mread()\n\u001b[0;32m     62\u001b[0m     writer\u001b[38;5;241m.\u001b[39mwrite(frame)\n",
      "\u001b[1;31mKeyboardInterrupt\u001b[0m: "
     ]
    }
   ],
   "source": [
    "get_no_serves(df, save_path_no_serve, filename, quota=140, clip_length=60)"
   ]
  },
  {
   "cell_type": "code",
   "execution_count": null,
   "id": "6e93a1a5-efa5-487d-8148-ce87a43e1853",
   "metadata": {},
   "outputs": [],
   "source": []
  },
  {
   "cell_type": "code",
   "execution_count": null,
   "id": "7a292258-3209-45a4-9e9a-71fddab64b9d",
   "metadata": {},
   "outputs": [],
   "source": []
  },
  {
   "cell_type": "code",
   "execution_count": null,
   "id": "9a0a5027-734b-40ca-8e8b-faaff731a563",
   "metadata": {},
   "outputs": [],
   "source": []
  }
 ],
 "metadata": {
  "kernelspec": {
   "display_name": "Python 3 (ipykernel)",
   "language": "python",
   "name": "python3"
  },
  "language_info": {
   "codemirror_mode": {
    "name": "ipython",
    "version": 3
   },
   "file_extension": ".py",
   "mimetype": "text/x-python",
   "name": "python",
   "nbconvert_exporter": "python",
   "pygments_lexer": "ipython3",
   "version": "3.9.12"
  }
 },
 "nbformat": 4,
 "nbformat_minor": 5
}
