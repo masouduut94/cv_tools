{
 "cells": [
  {
   "cell_type": "code",
   "execution_count": 1,
   "id": "00a9487d-8fba-4f86-bca2-9bd2db059c70",
   "metadata": {},
   "outputs": [],
   "source": [
    "import cv2\n",
    "import matplotlib.pyplot as plt\n",
    "from os.path import join\n",
    "from pathlib import Path\n",
    "from tqdm.notebook import tqdm_notebook as ntqdm\n",
    "\n",
    "plt.rcParams['figure.figsize'] = [20, 15]\n"
   ]
  },
  {
   "cell_type": "code",
   "execution_count": 2,
   "id": "50819175-c718-423d-9e1e-778812c39691",
   "metadata": {},
   "outputs": [
    {
     "name": "stdout",
     "output_type": "stream",
     "text": [
      "4\n"
     ]
    }
   ],
   "source": [
    "all_videos = list(Path('.').glob('*.mp4'))\n",
    "all_videos = sorted(all_videos, key=lambda x: int(cv2.VideoCapture(x.as_posix()).get(7)))\n",
    "print(len(all_videos))\n",
    "\n"
   ]
  },
  {
   "cell_type": "code",
   "execution_count": 3,
   "id": "e905fd5c-d3be-4e2d-b4b4-ec000d70afde",
   "metadata": {},
   "outputs": [
    {
     "data": {
      "text/plain": [
       "[WindowsPath('rally3.mp4'),\n",
       " WindowsPath('rally4.mp4'),\n",
       " WindowsPath('rally5.mp4'),\n",
       " WindowsPath('behind_cam.mp4')]"
      ]
     },
     "execution_count": 3,
     "metadata": {},
     "output_type": "execute_result"
    }
   ],
   "source": [
    "all_videos"
   ]
  },
  {
   "cell_type": "code",
   "execution_count": 8,
   "id": "e52bf7ae-fc39-4cd3-b5c7-1ff395773d63",
   "metadata": {},
   "outputs": [
    {
     "data": {
      "application/vnd.jupyter.widget-view+json": {
       "model_id": "b9c0771c993c43b19ac62b598e36b4e5",
       "version_major": 2,
       "version_minor": 0
      },
      "text/plain": [
       "  0%|          | 0/2761 [00:00<?, ?it/s]"
      ]
     },
     "metadata": {},
     "output_type": "display_data"
    },
    {
     "data": {
      "application/vnd.jupyter.widget-view+json": {
       "model_id": "340a68696de743d881ffc089d3d8e0f9",
       "version_major": 2,
       "version_minor": 0
      },
      "text/plain": [
       "  0%|          | 0/3601 [00:00<?, ?it/s]"
      ]
     },
     "metadata": {},
     "output_type": "display_data"
    },
    {
     "data": {
      "application/vnd.jupyter.widget-view+json": {
       "model_id": "ebe4b832f30f4fe28f83aaa732176f03",
       "version_major": 2,
       "version_minor": 0
      },
      "text/plain": [
       "  0%|          | 0/12601 [00:00<?, ?it/s]"
      ]
     },
     "metadata": {},
     "output_type": "display_data"
    },
    {
     "data": {
      "application/vnd.jupyter.widget-view+json": {
       "model_id": "c0be6cb1f5a8471facce197040c6f62a",
       "version_major": 2,
       "version_minor": 0
      },
      "text/plain": [
       "  0%|          | 0/74220 [00:00<?, ?it/s]"
      ]
     },
     "metadata": {},
     "output_type": "display_data"
    }
   ],
   "source": [
    "for item in all_videos:\n",
    "    cap = cv2.VideoCapture(item.as_posix())\n",
    "    name = item.stem\n",
    "    output = join('outputs', name + '_visualized.mp4')\n",
    "    w, h, fps, _, n_frames = [int(cap.get(i)) for i in range(3, 8)]\n",
    "    codec = cv2.VideoWriter_fourcc(*'mp4v')\n",
    "    \n",
    "    writer = cv2.VideoWriter(output, codec, fps, (w, h))\n",
    "    \n",
    "    for i in ntqdm(range(n_frames)):\n",
    "        pos_frame = int(cap.get(1))\n",
    "        status, frame = cap.read()\n",
    "        cv2.putText(frame, f\"Frame {pos_frame}/{n_frames}\", (200, 200), \n",
    "                    cv2.FONT_HERSHEY_SIMPLEX, 1, (0, 255, 0), 2)\n",
    "        \n",
    "        writer.write(frame)\n",
    "    writer.release()\n",
    "    cap.release()\n",
    "        \n",
    "    \n",
    "    "
   ]
  },
  {
   "cell_type": "code",
   "execution_count": null,
   "id": "14993d4e-48bf-4e3e-a9e4-da90a3bbd0ec",
   "metadata": {},
   "outputs": [],
   "source": [
    "cap = cv2.VideoCapture()"
   ]
  },
  {
   "cell_type": "code",
   "execution_count": null,
   "id": "a0a32cec-4b3b-43a3-85e2-ba83b93a3d77",
   "metadata": {},
   "outputs": [],
   "source": []
  },
  {
   "cell_type": "code",
   "execution_count": null,
   "id": "eaafcfe1-3efb-45ed-8474-09d31b3d07f0",
   "metadata": {},
   "outputs": [],
   "source": []
  },
  {
   "cell_type": "code",
   "execution_count": null,
   "id": "b0e2e9e4-0a63-414a-9e62-ee518ea7f662",
   "metadata": {},
   "outputs": [],
   "source": []
  },
  {
   "cell_type": "code",
   "execution_count": null,
   "id": "42715710-305f-4748-957b-d907afe9dec9",
   "metadata": {},
   "outputs": [],
   "source": []
  },
  {
   "cell_type": "code",
   "execution_count": null,
   "id": "0d33a78a-c953-4431-a06c-1af2a6d209bf",
   "metadata": {},
   "outputs": [],
   "source": []
  },
  {
   "cell_type": "code",
   "execution_count": null,
   "id": "c659a129-8e8e-45ba-afb0-16229e0654d7",
   "metadata": {},
   "outputs": [],
   "source": []
  },
  {
   "cell_type": "code",
   "execution_count": null,
   "id": "231b53ce-a2d2-400a-a91b-bd7d4fdde4ec",
   "metadata": {},
   "outputs": [],
   "source": []
  }
 ],
 "metadata": {
  "kernelspec": {
   "display_name": "Python 3 (ipykernel)",
   "language": "python",
   "name": "python3"
  },
  "language_info": {
   "codemirror_mode": {
    "name": "ipython",
    "version": 3
   },
   "file_extension": ".py",
   "mimetype": "text/x-python",
   "name": "python",
   "nbconvert_exporter": "python",
   "pygments_lexer": "ipython3",
   "version": "3.9.12"
  }
 },
 "nbformat": 4,
 "nbformat_minor": 5
}
